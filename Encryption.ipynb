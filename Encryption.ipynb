{
  "nbformat": 4,
  "nbformat_minor": 0,
  "metadata": {
    "colab": {
      "provenance": [],
      "gpuType": "T4",
      "cell_execution_strategy": "setup",
      "authorship_tag": "ABX9TyOsImdVMySD70WnB0dVCn15",
      "include_colab_link": true
    },
    "kernelspec": {
      "name": "python3",
      "display_name": "Python 3"
    },
    "language_info": {
      "name": "python"
    },
    "accelerator": "GPU"
  },
  "cells": [
    {
      "cell_type": "markdown",
      "metadata": {
        "id": "view-in-github",
        "colab_type": "text"
      },
      "source": [
        "<a href=\"https://colab.research.google.com/github/ben854719/Vault-Security/blob/main/Encryption.ipynb\" target=\"_parent\"><img src=\"https://colab.research.google.com/assets/colab-badge.svg\" alt=\"Open In Colab\"/></a>"
      ]
    },
    {
      "cell_type": "code",
      "execution_count": 2,
      "metadata": {
        "id": "3HyZDJOBSBp5"
      },
      "outputs": [],
      "source": [
        "# .env\n",
        "API_KEY=\"supersecret123\"\n",
        "DB_PASSWORD=\"securepass456\""
      ]
    },
    {
      "cell_type": "code",
      "source": [
        "!pip install python-dotenv\n"
      ],
      "metadata": {
        "colab": {
          "base_uri": "https://localhost:8080/"
        },
        "collapsed": true,
        "id": "l1yZbmbhSfHW",
        "outputId": "d1af4aa4-cca0-4a36-e7f5-80c8987d8bdf"
      },
      "execution_count": 3,
      "outputs": [
        {
          "output_type": "stream",
          "name": "stdout",
          "text": [
            "Requirement already satisfied: python-dotenv in /usr/local/lib/python3.12/dist-packages (1.1.1)\n"
          ]
        }
      ]
    },
    {
      "cell_type": "code",
      "source": [
        "from dotenv import load_dotenv\n",
        "import os\n",
        "\n",
        "load_dotenv()  # Loads .env file\n",
        "\n",
        "api_key = os.getenv(\"API_KEY\")\n",
        "db_password = os.getenv(\"DB_PASSWORD\")\n",
        "\n",
        "print(f\"API Key: {api_key}\")"
      ],
      "metadata": {
        "colab": {
          "base_uri": "https://localhost:8080/"
        },
        "collapsed": true,
        "id": "yoXX-AhSTT9z",
        "outputId": "a7a5e072-73d1-4001-d456-2b20ba1adef2"
      },
      "execution_count": 4,
      "outputs": [
        {
          "output_type": "stream",
          "name": "stdout",
          "text": [
            "API Key: None\n"
          ]
        }
      ]
    },
    {
      "cell_type": "code",
      "metadata": {
        "colab": {
          "base_uri": "https://localhost:8080/"
        },
        "id": "77a60149",
        "outputId": "76abf50b-bc85-4925-ad25-944ba435e3f0"
      },
      "source": [
        "import os\n",
        "\n",
        "# Access the variables\n",
        "api_key = os.getenv(\"API_KEY\")\n",
        "db_password = os.getenv(\"DB_PASSWORD\")\n",
        "\n",
        "print(f\"API Key: {api_key}\")\n",
        "print(f\"Database Password: {db_password}\")"
      ],
      "execution_count": 6,
      "outputs": [
        {
          "output_type": "stream",
          "name": "stdout",
          "text": [
            "API Key: None\n",
            "Database Password: None\n"
          ]
        }
      ]
    },
    {
      "cell_type": "code",
      "source": [],
      "metadata": {
        "id": "Pd5V44bTTr_I"
      },
      "execution_count": null,
      "outputs": []
    }
  ]
}